{
  "metadata": {
    "kernelspec": {
      "name": "python",
      "display_name": "Python (Pyodide)",
      "language": "python"
    },
    "language_info": {
      "codemirror_mode": {
        "name": "python",
        "version": 3
      },
      "file_extension": ".py",
      "mimetype": "text/x-python",
      "name": "python",
      "nbconvert_exporter": "python",
      "pygments_lexer": "ipython3",
      "version": "3.8"
    }
  },
  "nbformat_minor": 5,
  "nbformat": 4,
  "cells": [
    {
      "id": "3b9144ef-b2bb-4e5b-80bb-6f2d903b558c",
      "cell_type": "code",
      "source": "import numpy as np\nimport pandas as pd\nfrom sklearn.preprocessing import LabelEncoder\nfrom sklearn.ensemble import BaggingClassifier\nfrom sklearn.metrics import confusion_matrix, accuracy_score, classification_report\nfrom sklearn.model_selection import train_test_split\nfrom sklearn.tree import DecisionTreeClassifier\nimport matplotlib.pyplot as plt\nfrom sklearn import tree\nfrom sklearn.tree import plot_tree\n\ndf = pd.read_csv(\"Threats.csv\")\ndf = df.loc[:, ~df.columns.str.contains('^Unnamed')]\n\nle_proto = LabelEncoder()\nle_service = LabelEncoder()\nle_state = LabelEncoder()\nle_attack_cat= LabelEncoder()\ndf['proto_n'] = le_proto.fit_transform(df['proto'])\ndf['service_n'] = le_proto.fit_transform(df['service'])\ndf['state_n'] = le_proto.fit_transform(df['state'])\ndf['attack_cat_n'] = le_proto.fit_transform(df['attack_cat'])\ndf = df.drop(['proto','service','state', 'attack_cat'], axis = 'columns')\n",
      "metadata": {
        "trusted": true
      },
      "outputs": [],
      "execution_count": 6
    },
    {
      "id": "6dbccbc3-00dd-4a6d-a114-2eb7b329921b",
      "cell_type": "code",
      "source": "X = df.drop(\"attack_cat_n\", axis = 1)\nY = df['attack_cat_n']\nX_train, X_test, y_train, y_test = train_test_split(X, Y, test_size=0.3, random_state=100)\n\n\nclf = DecisionTreeClassifier(criterion=\"entropy\", random_state=100,max_depth=3, min_samples_leaf=5)\nclf.fit(X_train, y_train)\nscore = clf.score(X,Y)",
      "metadata": {
        "trusted": true
      },
      "outputs": [],
      "execution_count": 7
    },
    {
      "id": "875b1e82-7eb2-4eed-82bc-73d53a88e9f8",
      "cell_type": "markdown",
      "source": "# BAGGING",
      "metadata": {}
    },
    {
      "id": "24e4c915-da7d-41d1-b71f-4c0261b044cb",
      "cell_type": "code",
      "source": "bagging_model = BaggingClassifier(\n    #base_estimator=DecisionTreeClassifier(),  \n    n_estimators=50,  \n    max_samples=0.8,  \n    bootstrap=True,  \n    random_state=42\n)\n\nbagging_model.fit(X_train, y_train)\ny_pred = bagging_model.predict(X_test)\n",
      "metadata": {
        "trusted": true
      },
      "outputs": [],
      "execution_count": null
    },
    {
      "id": "1163d5eb-e4a0-4c59-a313-48ef6c569a37",
      "cell_type": "code",
      "source": "print(f\"Accuracy without bagging : \"+ str(score*100))\nprint(f\"Accuracy with bagging : \"+str((accuracy_score(y_test, y_pred)*100)))",
      "metadata": {
        "trusted": true
      },
      "outputs": [
        {
          "name": "stdout",
          "output_type": "stream",
          "text": "Accuracy without bagging : 64.50964600527557\nAccuracy with bagging : 82.73280299485259\n"
        }
      ],
      "execution_count": 14
    },
    {
      "id": "f07b87dd-eb05-4ee2-b0aa-7e85e8b37731",
      "cell_type": "markdown",
      "source": "# BOOSTING",
      "metadata": {}
    },
    {
      "id": "a306134e-29b5-4195-b5fa-99cebc1d8bf2",
      "cell_type": "code",
      "source": "from sklearn.ensemble import AdaBoostClassifier\n\nboost_model = AdaBoostClassifier(\n    #base_estimator=DecisionTreeClassifier(max_depth=1),  \n    n_estimators=50, \n    learning_rate=1.0,  \n    random_state=42\n)",
      "metadata": {
        "trusted": true
      },
      "outputs": [],
      "execution_count": 18
    },
    {
      "id": "ec4f77d8-859a-4059-a1c7-bdde5c6db26c",
      "cell_type": "code",
      "source": "boost_model.fit(X_train, y_train)\ny_pred = boost_model.predict(X_test)",
      "metadata": {
        "trusted": true
      },
      "outputs": [
        {
          "name": "stderr",
          "output_type": "stream",
          "text": "/lib/python3.12/site-packages/sklearn/ensemble/_weight_boosting.py:527: FutureWarning: The SAMME.R algorithm (the default) is deprecated and will be removed in 1.6. Use the SAMME algorithm to circumvent this warning.\n  warnings.warn(\n"
        }
      ],
      "execution_count": 19
    },
    {
      "id": "e1aebcbf-bd2e-4f62-869f-84e1907ec2a2",
      "cell_type": "code",
      "source": "print(f\"Accuracy without boosting : \"+ str(score*100))\nprint(f\"Accuracy with boosting : \"+str((accuracy_score(y_test, y_pred)*100)))",
      "metadata": {
        "trusted": true
      },
      "outputs": [
        {
          "name": "stdout",
          "output_type": "stream",
          "text": "Accuracy without boosting : 64.50964600527557\nAccuracy with boosting : 72.1178238061227\n"
        }
      ],
      "execution_count": 20
    },
    {
      "id": "802bbeac-a63c-44df-bd8b-e2b8ee5e504e",
      "cell_type": "code",
      "source": "",
      "metadata": {
        "trusted": true
      },
      "outputs": [],
      "execution_count": null
    }
  ]
}