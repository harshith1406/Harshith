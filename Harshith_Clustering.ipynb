{
  "cells": [
    {
      "cell_type": "code",
      "execution_count": 154,
      "id": "5a3647d7-77a3-46f9-868f-49e115b39501",
      "metadata": {
        "trusted": true
      },
      "outputs": [
        {
          "ename": "",
          "evalue": "",
          "output_type": "error",
          "traceback": [
            "\u001b[1;31mRunning cells with 'Python 3.11.10' requires the ipykernel package.\n",
            "\u001b[1;31mRun the following command to install 'ipykernel' into the Python environment. \n",
            "\u001b[1;31mCommand: 'c:/msys64/mingw64/bin/python.exe -m pip install ipykernel -U --user --force-reinstall'"
          ]
        }
      ],
      "source": [
        "import pandas as pd\n",
        "from matplotlib import pyplot as plt\n",
        "from sklearn.cluster import KMeans as km\n",
        "\n",
        "from sklearn.preprocessing import MinMaxScaler\n",
        "\n",
        "from sklearn.decomposition import PCA"
      ]
    },
    {
      "cell_type": "code",
      "execution_count": null,
      "id": "7d982710-261f-4f43-a4f9-43a0dd55aae9",
      "metadata": {
        "trusted": true
      },
      "outputs": [],
      "source": [
        "df = pd.read_csv(\"Clustering_Data.csv\")\n",
        "df"
      ]
    },
    {
      "cell_type": "code",
      "execution_count": null,
      "id": "0931ea87-a6aa-47ac-9afd-19fc327f20c0",
      "metadata": {
        "trusted": true
      },
      "outputs": [],
      "source": [
        "df= df.drop('Customer_Segment', axis = \"columns\")\n",
        "df"
      ]
    },
    {
      "cell_type": "code",
      "execution_count": null,
      "id": "c307f67c-2d70-4baa-a750-adf6d1b66fb4",
      "metadata": {
        "trusted": true
      },
      "outputs": [],
      "source": [
        "scaler = MinMaxScaler()\n",
        "scaler.fit(df)\n",
        "df1 = scaler.transform(df)\n",
        "df1"
      ]
    },
    {
      "cell_type": "code",
      "execution_count": null,
      "id": "c0362248",
      "metadata": {},
      "outputs": [],
      "source": [
        "\n",
        "# Apply PCA to reduce to 2 dimensions\n",
        "pca = PCA(n_components=2)\n",
        "data_pca = pca.fit_transform(df)\n",
        "\n",
        "# Create a scatter plot of the PCA-reduced data\n",
        "plt.figure(figsize=(10, 6))\n",
        "plt.scatter(data_pca[:, 0], data_pca[:, 1], alpha=0.7, edgecolor='k')\n",
        "plt.title('Scatter Plot (PCA Reduced to 2D)')\n",
        "plt.xlabel('Principal Component 1')\n",
        "plt.ylabel('Principal Component 2')\n",
        "plt.grid(True)\n",
        "plt.show()"
      ]
    },
    {
      "cell_type": "code",
      "execution_count": null,
      "id": "21dfb9ac-3d81-4996-942a-1bab11c3136c",
      "metadata": {
        "trusted": true
      },
      "outputs": [],
      "source": [
        "def k_means(data, max_k):\n",
        "    means = []\n",
        "    inertias = []\n",
        "    for k in range(1,max_k):\n",
        "        kmeans=km(n_clusters=k)\n",
        "        kmeans.fit(data)\n",
        "\n",
        "        means.append(k)\n",
        "        inertias.append(kmeans.inertia_)\n",
        "\n",
        "    fig = plt.subplots(figsize=(10,5))\n",
        "    plt.plot(means, inertias, 'o-')\n",
        "    plt.xlabel('Number of Clusters')\n",
        "    plt.ylabel('Inertia')\n",
        "    plt.grid(True)\n",
        "    plt.show()\n",
        "k_means(df1, 10)  "
      ]
    },
    {
      "cell_type": "code",
      "execution_count": 159,
      "id": "50736b85-98a6-466a-803f-5e9c68542857",
      "metadata": {
        "trusted": true
      },
      "outputs": [],
      "source": [
        "import pandas as pd\n",
        "df2 = pd.DataFrame(df1, columns=df.columns)"
      ]
    },
    {
      "cell_type": "code",
      "execution_count": null,
      "id": "cddd218f-81a8-4401-b65c-01c52f67c241",
      "metadata": {
        "trusted": true
      },
      "outputs": [],
      "source": [
        "kmeans = km(n_clusters = 3)\n",
        "kmeans.fit(df2)\n",
        "df2['kmeans'] = kmeans.labels_\n",
        "df2"
      ]
    },
    {
      "cell_type": "code",
      "execution_count": null,
      "id": "e931d3c1-1854-4cbe-ad11-40ee18acad5d",
      "metadata": {
        "trusted": true
      },
      "outputs": [],
      "source": [
        "pca = PCA(n_components=2)\n",
        "data_2d = pca.fit_transform(df2.drop('kmeans', axis=\"columns\"))\n",
        "\n",
        "df2['PCA1'] = data_2d[:, 0]\n",
        "df2['PCA2'] = data_2d[:, 1]\n",
        "\n",
        "# Scatter plot using PCA dimensions\n",
        "plt.figure(figsize=(10, 6))\n",
        "for cluster in df2['kmeans'].unique():\n",
        "    cluster_data = df2[df2['kmeans'] == cluster]\n",
        "    plt.scatter(cluster_data['PCA1'], cluster_data['PCA2'], label=f'Cluster {cluster}')\n",
        "\n",
        "plt.title('Clusters')\n",
        "plt.xlabel('PCA1')\n",
        "plt.ylabel('PCA2')\n",
        "plt.legend()\n",
        "plt.grid(True)\n",
        "plt.show()"
      ]
    },
    {
      "cell_type": "code",
      "execution_count": null,
      "id": "2215ad05-60ce-4b4a-87dd-76e9a0ee528e",
      "metadata": {
        "trusted": true
      },
      "outputs": [],
      "source": []
    },
    {
      "cell_type": "code",
      "execution_count": null,
      "id": "e1998195-e987-4db6-8070-977bad36a9db",
      "metadata": {
        "trusted": true
      },
      "outputs": [],
      "source": []
    }
  ],
  "metadata": {
    "kernelspec": {
      "display_name": "Python 3",
      "language": "python",
      "name": "python3"
    },
    "language_info": {
      "codemirror_mode": {
        "name": "python",
        "version": 3
      },
      "file_extension": ".py",
      "mimetype": "text/x-python",
      "name": "python",
      "nbconvert_exporter": "python",
      "pygments_lexer": "ipython3",
      "version": "3.11.10"
    }
  },
  "nbformat": 4,
  "nbformat_minor": 5
}
